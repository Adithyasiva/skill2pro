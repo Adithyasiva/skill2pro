{
 "cells": [
  {
   "cell_type": "code",
   "execution_count": 1,
   "metadata": {},
   "outputs": [],
   "source": [
    "import numpy as np"
   ]
  },
  {
   "cell_type": "code",
   "execution_count": 2,
   "metadata": {},
   "outputs": [],
   "source": [
    "import scipy.linalg as la"
   ]
  },
  {
   "cell_type": "code",
   "execution_count": 4,
   "metadata": {},
   "outputs": [],
   "source": [
    "import matplotlib.pyplot as plt"
   ]
  },
  {
   "cell_type": "code",
   "execution_count": 5,
   "metadata": {},
   "outputs": [],
   "source": [
    "%matplotlib inline"
   ]
  },
  {
   "cell_type": "code",
   "execution_count": null,
   "metadata": {},
   "outputs": [],
   "source": []
  },
  {
   "cell_type": "code",
   "execution_count": 17,
   "metadata": {},
   "outputs": [],
   "source": [
    "x=6"
   ]
  },
  {
   "cell_type": "code",
   "execution_count": 18,
   "metadata": {},
   "outputs": [],
   "source": [
    "y=x**2"
   ]
  },
  {
   "cell_type": "code",
   "execution_count": 19,
   "metadata": {},
   "outputs": [
    {
     "name": "stdout",
     "output_type": "stream",
     "text": [
      "36\n"
     ]
    }
   ],
   "source": [
    "print(y)"
   ]
  },
  {
   "cell_type": "code",
   "execution_count": 20,
   "metadata": {},
   "outputs": [],
   "source": [
    "z=x**3"
   ]
  },
  {
   "cell_type": "code",
   "execution_count": 21,
   "metadata": {},
   "outputs": [
    {
     "name": "stdout",
     "output_type": "stream",
     "text": [
      "216\n"
     ]
    }
   ],
   "source": [
    "print(z)"
   ]
  },
  {
   "cell_type": "code",
   "execution_count": null,
   "metadata": {},
   "outputs": [],
   "source": []
  },
  {
   "cell_type": "code",
   "execution_count": 14,
   "metadata": {},
   "outputs": [],
   "source": [
    "theta=45"
   ]
  },
  {
   "cell_type": "code",
   "execution_count": 15,
   "metadata": {},
   "outputs": [],
   "source": [
    "p=np.sin(theta)"
   ]
  },
  {
   "cell_type": "code",
   "execution_count": 16,
   "metadata": {},
   "outputs": [
    {
     "name": "stdout",
     "output_type": "stream",
     "text": [
      "0.8509035245341184\n"
     ]
    }
   ],
   "source": [
    "print(p)"
   ]
  },
  {
   "cell_type": "code",
   "execution_count": 22,
   "metadata": {},
   "outputs": [],
   "source": [
    "q=np.cos(theta)"
   ]
  },
  {
   "cell_type": "code",
   "execution_count": 23,
   "metadata": {},
   "outputs": [
    {
     "name": "stdout",
     "output_type": "stream",
     "text": [
      "0.5253219888177297\n"
     ]
    }
   ],
   "source": [
    "print(q)"
   ]
  },
  {
   "cell_type": "code",
   "execution_count": null,
   "metadata": {},
   "outputs": [],
   "source": []
  },
  {
   "cell_type": "code",
   "execution_count": 24,
   "metadata": {},
   "outputs": [],
   "source": [
    "theta=45"
   ]
  },
  {
   "cell_type": "code",
   "execution_count": 25,
   "metadata": {},
   "outputs": [],
   "source": [
    "p=np.sin(theta*np.pi/180)"
   ]
  },
  {
   "cell_type": "code",
   "execution_count": 26,
   "metadata": {},
   "outputs": [
    {
     "name": "stdout",
     "output_type": "stream",
     "text": [
      "0.7071067811865476\n"
     ]
    }
   ],
   "source": [
    "print(p)"
   ]
  },
  {
   "cell_type": "code",
   "execution_count": 27,
   "metadata": {},
   "outputs": [],
   "source": [
    "q=np.cos(theta*np.pi/180)"
   ]
  },
  {
   "cell_type": "code",
   "execution_count": 28,
   "metadata": {},
   "outputs": [
    {
     "name": "stdout",
     "output_type": "stream",
     "text": [
      "0.7071067811865476\n"
     ]
    }
   ],
   "source": [
    "print(q)"
   ]
  },
  {
   "cell_type": "code",
   "execution_count": null,
   "metadata": {},
   "outputs": [],
   "source": []
  },
  {
   "cell_type": "code",
   "execution_count": 33,
   "metadata": {},
   "outputs": [],
   "source": [
    "meshPoints=np.linspace(-1,1,200)"
   ]
  },
  {
   "cell_type": "code",
   "execution_count": 34,
   "metadata": {},
   "outputs": [
    {
     "name": "stdout",
     "output_type": "stream",
     "text": [
      "[-1.         -0.98994975 -0.9798995  -0.96984925 -0.95979899 -0.94974874\n",
      " -0.93969849 -0.92964824 -0.91959799 -0.90954774 -0.89949749 -0.88944724\n",
      " -0.87939698 -0.86934673 -0.85929648 -0.84924623 -0.83919598 -0.82914573\n",
      " -0.81909548 -0.80904523 -0.79899497 -0.78894472 -0.77889447 -0.76884422\n",
      " -0.75879397 -0.74874372 -0.73869347 -0.72864322 -0.71859296 -0.70854271\n",
      " -0.69849246 -0.68844221 -0.67839196 -0.66834171 -0.65829146 -0.64824121\n",
      " -0.63819095 -0.6281407  -0.61809045 -0.6080402  -0.59798995 -0.5879397\n",
      " -0.57788945 -0.5678392  -0.55778894 -0.54773869 -0.53768844 -0.52763819\n",
      " -0.51758794 -0.50753769 -0.49748744 -0.48743719 -0.47738693 -0.46733668\n",
      " -0.45728643 -0.44723618 -0.43718593 -0.42713568 -0.41708543 -0.40703518\n",
      " -0.39698492 -0.38693467 -0.37688442 -0.36683417 -0.35678392 -0.34673367\n",
      " -0.33668342 -0.32663317 -0.31658291 -0.30653266 -0.29648241 -0.28643216\n",
      " -0.27638191 -0.26633166 -0.25628141 -0.24623116 -0.2361809  -0.22613065\n",
      " -0.2160804  -0.20603015 -0.1959799  -0.18592965 -0.1758794  -0.16582915\n",
      " -0.15577889 -0.14572864 -0.13567839 -0.12562814 -0.11557789 -0.10552764\n",
      " -0.09547739 -0.08542714 -0.07537688 -0.06532663 -0.05527638 -0.04522613\n",
      " -0.03517588 -0.02512563 -0.01507538 -0.00502513  0.00502513  0.01507538\n",
      "  0.02512563  0.03517588  0.04522613  0.05527638  0.06532663  0.07537688\n",
      "  0.08542714  0.09547739  0.10552764  0.11557789  0.12562814  0.13567839\n",
      "  0.14572864  0.15577889  0.16582915  0.1758794   0.18592965  0.1959799\n",
      "  0.20603015  0.2160804   0.22613065  0.2361809   0.24623116  0.25628141\n",
      "  0.26633166  0.27638191  0.28643216  0.29648241  0.30653266  0.31658291\n",
      "  0.32663317  0.33668342  0.34673367  0.35678392  0.36683417  0.37688442\n",
      "  0.38693467  0.39698492  0.40703518  0.41708543  0.42713568  0.43718593\n",
      "  0.44723618  0.45728643  0.46733668  0.47738693  0.48743719  0.49748744\n",
      "  0.50753769  0.51758794  0.52763819  0.53768844  0.54773869  0.55778894\n",
      "  0.5678392   0.57788945  0.5879397   0.59798995  0.6080402   0.61809045\n",
      "  0.6281407   0.63819095  0.64824121  0.65829146  0.66834171  0.67839196\n",
      "  0.68844221  0.69849246  0.70854271  0.71859296  0.72864322  0.73869347\n",
      "  0.74874372  0.75879397  0.76884422  0.77889447  0.78894472  0.79899497\n",
      "  0.80904523  0.81909548  0.82914573  0.83919598  0.84924623  0.85929648\n",
      "  0.86934673  0.87939698  0.88944724  0.89949749  0.90954774  0.91959799\n",
      "  0.92964824  0.93969849  0.94974874  0.95979899  0.96984925  0.9798995\n",
      "  0.98994975  1.        ]\n"
     ]
    }
   ],
   "source": [
    "print(meshPoints)"
   ]
  },
  {
   "cell_type": "code",
   "execution_count": 35,
   "metadata": {},
   "outputs": [],
   "source": [
    "lengt=len(meshPoints)"
   ]
  },
  {
   "cell_type": "code",
   "execution_count": 36,
   "metadata": {},
   "outputs": [
    {
     "name": "stdout",
     "output_type": "stream",
     "text": [
      "200\n"
     ]
    }
   ],
   "source": [
    "print(lengt)"
   ]
  },
  {
   "cell_type": "code",
   "execution_count": 39,
   "metadata": {},
   "outputs": [],
   "source": [
    "d=meshPoints[44]"
   ]
  },
  {
   "cell_type": "code",
   "execution_count": 40,
   "metadata": {},
   "outputs": [
    {
     "name": "stdout",
     "output_type": "stream",
     "text": [
      "-0.5577889447236181\n"
     ]
    }
   ],
   "source": [
    "print(d)"
   ]
  },
  {
   "cell_type": "code",
   "execution_count": 44,
   "metadata": {},
   "outputs": [
    {
     "data": {
      "text/plain": [
       "<Figure size 720x288 with 0 Axes>"
      ]
     },
     "execution_count": 44,
     "metadata": {},
     "output_type": "execute_result"
    },
    {
     "data": {
      "text/plain": [
       "<Figure size 720x288 with 0 Axes>"
      ]
     },
     "metadata": {},
     "output_type": "display_data"
    }
   ],
   "source": [
    "plt.figure(figsize=(10,4))"
   ]
  },
  {
   "cell_type": "code",
   "execution_count": 45,
   "metadata": {},
   "outputs": [
    {
     "data": {
      "text/plain": [
       "[<matplotlib.lines.Line2D at 0x91db6059c8>]"
      ]
     },
     "execution_count": 45,
     "metadata": {},
     "output_type": "execute_result"
    },
    {
     "data": {
      "image/png": "[encoded data removed]",
      "text/plain": [
       "<Figure size 432x288 with 1 Axes>"
      ]
     },
     "metadata": {
      "needs_background": "light"
     },
     "output_type": "display_data"
    }
   ],
   "source": [
    "plt.plot(meshPoints,np.sin(2*np.pi*meshPoints))"
   ]
  },
  {
   "cell_type": "code",
   "execution_count": 47,
   "metadata": {},
   "outputs": [],
   "source": [
    "vect1=np.array([-1.,3,-9.])"
   ]
  },
  {
   "cell_type": "code",
   "execution_count": 48,
   "metadata": {},
   "outputs": [],
   "source": [
    "mat1=np.array([[1.,2.,3.],[4.,5.,6.],[7.,8.,9.]])"
   ]
  },
  {
   "cell_type": "code",
   "execution_count": 50,
   "metadata": {},
   "outputs": [],
   "source": [
    "vect2=(np.pi/4)*vect1"
   ]
  },
  {
   "cell_type": "code",
   "execution_count": 51,
   "metadata": {},
   "outputs": [
    {
     "name": "stdout",
     "output_type": "stream",
     "text": [
      "[-0.78539816  2.35619449 -7.06858347]\n"
     ]
    }
   ],
   "source": [
    "print(vect2)"
   ]
  },
  {
   "cell_type": "code",
   "execution_count": 53,
   "metadata": {},
   "outputs": [],
   "source": [
    "vect2=np.cos(vect2)"
   ]
  },
  {
   "cell_type": "code",
   "execution_count": 54,
   "metadata": {},
   "outputs": [
    {
     "name": "stdout",
     "output_type": "stream",
     "text": [
      "[ 0.70710678 -0.70710678  0.70710678]\n"
     ]
    }
   ],
   "source": [
    "print(vect2)"
   ]
  },
  {
   "cell_type": "code",
   "execution_count": 55,
   "metadata": {},
   "outputs": [],
   "source": [
    "vect3=vect1+2*vect2"
   ]
  },
  {
   "cell_type": "code",
   "execution_count": 56,
   "metadata": {},
   "outputs": [
    {
     "name": "stdout",
     "output_type": "stream",
     "text": [
      "[ 0.41421356  1.58578644 -7.58578644]\n"
     ]
    }
   ],
   "source": [
    "print(vect3)"
   ]
  },
  {
   "cell_type": "code",
   "execution_count": 58,
   "metadata": {},
   "outputs": [
    {
     "data": {
      "text/plain": [
       "7.76082775084588"
      ]
     },
     "execution_count": 58,
     "metadata": {},
     "output_type": "execute_result"
    }
   ],
   "source": [
    "la.norm(vect3)"
   ]
  },
  {
   "cell_type": "code",
   "execution_count": 59,
   "metadata": {},
   "outputs": [
    {
     "name": "stdout",
     "output_type": "stream",
     "text": [
      "[ 0.41421356  1.58578644 -7.58578644]\n"
     ]
    }
   ],
   "source": [
    "print(vect3)"
   ]
  },
  {
   "cell_type": "code",
   "execution_count": 60,
   "metadata": {},
   "outputs": [
    {
     "data": {
      "text/plain": [
       "(3, 3)"
      ]
     },
     "execution_count": 60,
     "metadata": {},
     "output_type": "execute_result"
    }
   ],
   "source": [
    "mat1.shape"
   ]
  },
  {
   "cell_type": "code",
   "execution_count": 61,
   "metadata": {},
   "outputs": [
    {
     "data": {
      "text/plain": [
       "(3,)"
      ]
     },
     "execution_count": 61,
     "metadata": {},
     "output_type": "execute_result"
    }
   ],
   "source": [
    "vect3.shape"
   ]
  },
  {
   "cell_type": "code",
   "execution_count": 63,
   "metadata": {},
   "outputs": [],
   "source": [
    "vect4=np.dot(mat1,vect3)"
   ]
  },
  {
   "cell_type": "code",
   "execution_count": 64,
   "metadata": {},
   "outputs": [
    {
     "name": "stdout",
     "output_type": "stream",
     "text": [
      " matrix multiplication:[-19.17157288 -35.92893219 -52.6862915 ]\n"
     ]
    }
   ],
   "source": [
    "print(f''' matrix multiplication:{vect4}''')"
   ]
  },
  {
   "cell_type": "code",
   "execution_count": null,
   "metadata": {},
   "outputs": [],
   "source": []
  },
  {
   "cell_type": "code",
   "execution_count": 65,
   "metadata": {},
   "outputs": [
    {
     "name": "stdout",
     "output_type": "stream",
     "text": [
      " matrix:[[1. 2. 3.]\n",
      " [4. 5. 6.]\n",
      " [7. 8. 9.]]\n"
     ]
    }
   ],
   "source": [
    "print(f''' matrix:{mat1}''')"
   ]
  },
  {
   "cell_type": "code",
   "execution_count": 66,
   "metadata": {},
   "outputs": [],
   "source": [
    "t=mat1.transpose()"
   ]
  },
  {
   "cell_type": "code",
   "execution_count": 67,
   "metadata": {},
   "outputs": [
    {
     "name": "stdout",
     "output_type": "stream",
     "text": [
      "transpose:[[1. 4. 7.]\n",
      " [2. 5. 8.]\n",
      " [3. 6. 9.]]\n"
     ]
    }
   ],
   "source": [
    "print(f'''transpose:{t}''')"
   ]
  },
  {
   "cell_type": "code",
   "execution_count": null,
   "metadata": {},
   "outputs": [],
   "source": []
  },
  {
   "cell_type": "code",
   "execution_count": 68,
   "metadata": {},
   "outputs": [
    {
     "name": "stdout",
     "output_type": "stream",
     "text": [
      "matrix:[[1. 2. 3.]\n",
      " [4. 5. 6.]\n",
      " [7. 8. 9.]]\n"
     ]
    }
   ],
   "source": [
    "print(f'''matrix:{mat1}''')"
   ]
  },
  {
   "cell_type": "code",
   "execution_count": 69,
   "metadata": {},
   "outputs": [],
   "source": [
    "d=np.linalg.det(mat1)"
   ]
  },
  {
   "cell_type": "code",
   "execution_count": 70,
   "metadata": {},
   "outputs": [
    {
     "name": "stdout",
     "output_type": "stream",
     "text": [
      " determinant:6.66133814775094e-16\n"
     ]
    }
   ],
   "source": [
    "print(f''' determinant:{d}''')"
   ]
  },
  {
   "cell_type": "code",
   "execution_count": null,
   "metadata": {},
   "outputs": [],
   "source": []
  },
  {
   "cell_type": "code",
   "execution_count": 71,
   "metadata": {},
   "outputs": [
    {
     "name": "stdout",
     "output_type": "stream",
     "text": [
      " matrix:[[1. 2. 3.]\n",
      " [4. 5. 6.]\n",
      " [7. 8. 9.]]\n"
     ]
    }
   ],
   "source": [
    "print(f''' matrix:{mat1}''')"
   ]
  },
  {
   "cell_type": "code",
   "execution_count": 73,
   "metadata": {},
   "outputs": [],
   "source": [
    "tr=np.trace(mat1)"
   ]
  },
  {
   "cell_type": "code",
   "execution_count": 74,
   "metadata": {},
   "outputs": [
    {
     "name": "stdout",
     "output_type": "stream",
     "text": [
      "trace(sum of principle diagonal elements):15.0\n"
     ]
    }
   ],
   "source": [
    "print(f'''trace(sum of principle diagonal elements):{tr}''')"
   ]
  },
  {
   "cell_type": "code",
   "execution_count": null,
   "metadata": {},
   "outputs": [],
   "source": []
  },
  {
   "cell_type": "code",
   "execution_count": 76,
   "metadata": {},
   "outputs": [
    {
     "name": "stdout",
     "output_type": "stream",
     "text": [
      "vector[-1.  3. -9.]\n"
     ]
    }
   ],
   "source": [
    "print(f'''vector{vect1}''')"
   ]
  },
  {
   "cell_type": "code",
   "execution_count": 80,
   "metadata": {},
   "outputs": [],
   "source": [
    "min1=vect1.min()"
   ]
  },
  {
   "cell_type": "code",
   "execution_count": 81,
   "metadata": {},
   "outputs": [
    {
     "name": "stdout",
     "output_type": "stream",
     "text": [
      " min:-9.0\n"
     ]
    }
   ],
   "source": [
    "print(f''' min:{min1}''')"
   ]
  },
  {
   "cell_type": "code",
   "execution_count": 83,
   "metadata": {},
   "outputs": [
    {
     "name": "stdout",
     "output_type": "stream",
     "text": [
      "vector:[-1.  3. -9.]\n"
     ]
    }
   ],
   "source": [
    "print(f'''vector:{vect1}''')"
   ]
  },
  {
   "cell_type": "code",
   "execution_count": 86,
   "metadata": {},
   "outputs": [],
   "source": [
    "index_min=np.argmin(vect1)"
   ]
  },
  {
   "cell_type": "code",
   "execution_count": 87,
   "metadata": {},
   "outputs": [
    {
     "name": "stdout",
     "output_type": "stream",
     "text": [
      "index of min value:2\n"
     ]
    }
   ],
   "source": [
    "print(f'''index of min value:{index_min}''')"
   ]
  },
  {
   "cell_type": "code",
   "execution_count": null,
   "metadata": {},
   "outputs": [],
   "source": []
  },
  {
   "cell_type": "code",
   "execution_count": 88,
   "metadata": {},
   "outputs": [
    {
     "name": "stdout",
     "output_type": "stream",
     "text": [
      "matrix:[[1. 2. 3.]\n",
      " [4. 5. 6.]\n",
      " [7. 8. 9.]]\n"
     ]
    }
   ],
   "source": [
    "print(f'''matrix:{mat1}''')"
   ]
  },
  {
   "cell_type": "code",
   "execution_count": 89,
   "metadata": {},
   "outputs": [],
   "source": [
    "min_2=np.min(mat1)"
   ]
  },
  {
   "cell_type": "code",
   "execution_count": 90,
   "metadata": {},
   "outputs": [
    {
     "name": "stdout",
     "output_type": "stream",
     "text": [
      "smallest element of the matrix:1.0\n"
     ]
    }
   ],
   "source": [
    "print(f'''smallest element of the matrix:{min_2}''')"
   ]
  },
  {
   "cell_type": "code",
   "execution_count": 91,
   "metadata": {},
   "outputs": [],
   "source": [
    "#The function np.random.rand can be used to construct and fill vectors and matrices with random numbers.Use the hep faciity in python to earn how to construct a 10*10 matrix named m filled with random numbers "
   ]
  },
  {
   "cell_type": "code",
   "execution_count": 92,
   "metadata": {},
   "outputs": [],
   "source": [
    "m=np.random.rand(100).reshape(10,10)"
   ]
  },
  {
   "cell_type": "code",
   "execution_count": 93,
   "metadata": {},
   "outputs": [
    {
     "name": "stdout",
     "output_type": "stream",
     "text": [
      "10X10 matrix m:[[0.0609016  0.79789431 0.95402942 0.05385844 0.98880742 0.60208276\n",
      "  0.20087717 0.32054447 0.35579296 0.86391698]\n",
      " [0.76802994 0.89413866 0.92452325 0.15724392 0.80023224 0.49174478\n",
      "  0.17690548 0.52811714 0.14069961 0.33930732]\n",
      " [0.53526214 0.46710129 0.64814114 0.97436337 0.07748481 0.02470497\n",
      "  0.51197704 0.51986071 0.70966896 0.10552426]\n",
      " [0.2861794  0.95963583 0.82455536 0.65310494 0.59870038 0.87276009\n",
      "  0.1343171  0.94602015 0.67268958 0.8466996 ]\n",
      " [0.33822001 0.29706881 0.77459036 0.67070902 0.42133773 0.30867942\n",
      "  0.99008889 0.70439778 0.96691626 0.1755845 ]\n",
      " [0.52030438 0.75942755 0.55941906 0.59131673 0.03870589 0.12690891\n",
      "  0.30043506 0.37168529 0.40107364 0.97574237]\n",
      " [0.92511197 0.39400464 0.37743374 0.40407921 0.40648698 0.50482638\n",
      "  0.66331669 0.86986021 0.34219838 0.96370268]\n",
      " [0.2713035  0.20880128 0.38922633 0.20883872 0.32320114 0.65956811\n",
      "  0.74326173 0.38756809 0.60754174 0.73601032]\n",
      " [0.94444683 0.28455676 0.46494474 0.43702851 0.41985688 0.13726894\n",
      "  0.95742213 0.26448062 0.55811773 0.9989618 ]\n",
      " [0.92165776 0.54550499 0.040871   0.36624187 0.71207764 0.97427312\n",
      "  0.805887   0.93536447 0.23908771 0.42214426]]\n"
     ]
    }
   ],
   "source": [
    "print(f'''10X10 matrix m:{m}''')"
   ]
  },
  {
   "cell_type": "code",
   "execution_count": 94,
   "metadata": {},
   "outputs": [],
   "source": [
    "s=m.shape "
   ]
  },
  {
   "cell_type": "code",
   "execution_count": 95,
   "metadata": {},
   "outputs": [
    {
     "name": "stdout",
     "output_type": "stream",
     "text": [
      "shape of matrix m:(10, 10)\n"
     ]
    }
   ],
   "source": [
    "print(f'''shape of matrix m:{s}''')"
   ]
  },
  {
   "cell_type": "code",
   "execution_count": 96,
   "metadata": {},
   "outputs": [],
   "source": [
    "#what commands would be needed to generate the four 5x5 sub-matrices f M in the upper left quarter MU, the upper right quarter MUR,the lower left quarter ML,and the ower right quarter MR"
   ]
  },
  {
   "cell_type": "code",
   "execution_count": 98,
   "metadata": {},
   "outputs": [
    {
     "name": "stdout",
     "output_type": "stream",
     "text": [
      " 10x10 matrix M:[[0.0609016  0.79789431 0.95402942 0.05385844 0.98880742 0.60208276\n",
      "  0.20087717 0.32054447 0.35579296 0.86391698]\n",
      " [0.76802994 0.89413866 0.92452325 0.15724392 0.80023224 0.49174478\n",
      "  0.17690548 0.52811714 0.14069961 0.33930732]\n",
      " [0.53526214 0.46710129 0.64814114 0.97436337 0.07748481 0.02470497\n",
      "  0.51197704 0.51986071 0.70966896 0.10552426]\n",
      " [0.2861794  0.95963583 0.82455536 0.65310494 0.59870038 0.87276009\n",
      "  0.1343171  0.94602015 0.67268958 0.8466996 ]\n",
      " [0.33822001 0.29706881 0.77459036 0.67070902 0.42133773 0.30867942\n",
      "  0.99008889 0.70439778 0.96691626 0.1755845 ]\n",
      " [0.52030438 0.75942755 0.55941906 0.59131673 0.03870589 0.12690891\n",
      "  0.30043506 0.37168529 0.40107364 0.97574237]\n",
      " [0.92511197 0.39400464 0.37743374 0.40407921 0.40648698 0.50482638\n",
      "  0.66331669 0.86986021 0.34219838 0.96370268]\n",
      " [0.2713035  0.20880128 0.38922633 0.20883872 0.32320114 0.65956811\n",
      "  0.74326173 0.38756809 0.60754174 0.73601032]\n",
      " [0.94444683 0.28455676 0.46494474 0.43702851 0.41985688 0.13726894\n",
      "  0.95742213 0.26448062 0.55811773 0.9989618 ]\n",
      " [0.92165776 0.54550499 0.040871   0.36624187 0.71207764 0.97427312\n",
      "  0.805887   0.93536447 0.23908771 0.42214426]]\n"
     ]
    }
   ],
   "source": [
    "print(f''' 10x10 matrix M:{m}''')"
   ]
  },
  {
   "cell_type": "code",
   "execution_count": 100,
   "metadata": {},
   "outputs": [],
   "source": [
    "MUL=m[0:5,0:5]"
   ]
  },
  {
   "cell_type": "code",
   "execution_count": 101,
   "metadata": {},
   "outputs": [],
   "source": [
    "sh_ul=MUL.shape"
   ]
  },
  {
   "cell_type": "code",
   "execution_count": 102,
   "metadata": {},
   "outputs": [
    {
     "name": "stdout",
     "output_type": "stream",
     "text": [
      "upper left  quarter MUL:[[0.0609016  0.79789431 0.95402942 0.05385844 0.98880742]\n",
      " [0.76802994 0.89413866 0.92452325 0.15724392 0.80023224]\n",
      " [0.53526214 0.46710129 0.64814114 0.97436337 0.07748481]\n",
      " [0.2861794  0.95963583 0.82455536 0.65310494 0.59870038]\n",
      " [0.33822001 0.29706881 0.77459036 0.67070902 0.42133773]] with a shape (5, 5)\n"
     ]
    }
   ],
   "source": [
    "print(f'''upper left  quarter MUL:{MUL} with a shape {sh_ul}''')"
   ]
  },
  {
   "cell_type": "code",
   "execution_count": 103,
   "metadata": {},
   "outputs": [],
   "source": [
    "MLR=m[5:10,5:10]"
   ]
  },
  {
   "cell_type": "code",
   "execution_count": 104,
   "metadata": {},
   "outputs": [],
   "source": [
    "sh_lr=MLR.shape"
   ]
  },
  {
   "cell_type": "code",
   "execution_count": 106,
   "metadata": {},
   "outputs": [
    {
     "name": "stdout",
     "output_type": "stream",
     "text": [
      "lower left quarter MLL:[[0.12690891 0.30043506 0.37168529 0.40107364 0.97574237]\n",
      " [0.50482638 0.66331669 0.86986021 0.34219838 0.96370268]\n",
      " [0.65956811 0.74326173 0.38756809 0.60754174 0.73601032]\n",
      " [0.13726894 0.95742213 0.26448062 0.55811773 0.9989618 ]\n",
      " [0.97427312 0.805887   0.93536447 0.23908771 0.42214426]] with a shape(5, 5)\n"
     ]
    }
   ],
   "source": [
    "print(f'''lower left quarter MLL:{MLR} with a shape{sh_lr}''')"
   ]
  },
  {
   "cell_type": "code",
   "execution_count": null,
   "metadata": {},
   "outputs": [],
   "source": []
  }
 ],
 "metadata": {
  "kernelspec": {
   "display_name": "Python 3",
   "language": "python",
   "name": "python3"
  },
  "language_info": {
   "codemirror_mode": {
    "name": "ipython",
    "version": 3
   },
   "file_extension": ".py",
   "mimetype": "text/x-python",
   "name": "python",
   "nbconvert_exporter": "python",
   "pygments_lexer": "ipython3",
   "version": "3.7.4"
  }
 },
 "nbformat": 4,
 "nbformat_minor": 2
}
